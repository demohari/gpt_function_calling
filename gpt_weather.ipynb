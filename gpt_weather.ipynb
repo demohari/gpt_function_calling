{
 "cells": [
  {
   "cell_type": "markdown",
   "metadata": {},
   "source": [
    "## References and important URLS requirements- \n",
    "\n",
    "- [1] https://openai.com/blog/function-calling-and-other-api-updates\n",
    "- [2] https://github.com/openai/openai-cookbook/blob/main/examples/How_to_call_functions_with_chat_models.ipynb\n",
    "- [3] https://rapidapi.com/weatherapi/api/weatherapi-com/\n",
    "- [4] https://platform.openai.com/account/api-keys"
   ]
  },
  {
   "cell_type": "code",
   "execution_count": 1,
   "metadata": {},
   "outputs": [
    {
     "data": {
      "text/plain": [
       "'c:\\\\Users\\\\harik\\\\OneDrive\\\\Desktop\\\\ai\\\\gpt_function_calling'"
      ]
     },
     "execution_count": 1,
     "metadata": {},
     "output_type": "execute_result"
    }
   ],
   "source": [
    "import os\n",
    "ROOT = \"/Users/harik/OneDrive/Desktop/ai/gpt_function_calling/\"\n",
    "os.getcwd()"
   ]
  },
  {
   "cell_type": "markdown",
   "metadata": {},
   "source": [
    "# Previous ways - \n",
    "\n",
    "## Via Openai Python ChatCompletion class- \n",
    "\n",
    "```python\n",
    "import os\n",
    "import openai\n",
    "openai.api_key = os.getenv(\"OPENAI_API_KEY\")\n",
    "\n",
    "completion = openai.ChatCompletion.create(\n",
    "  model=\"gpt-3.5-turbo\",\n",
    "  messages=[\n",
    "    {\"role\": \"system\", \"content\": \"You are a helpful assistant.\"},\n",
    "    {\"role\": \"user\", \"content\": \"Hello!\"}\n",
    "  ]\n",
    ")\n",
    "\n",
    "print(completion.choices[0].message)\n",
    "```"
   ]
  },
  {
   "cell_type": "markdown",
   "metadata": {},
   "source": [
    "## Via CURL command\n",
    "\n",
    "```bash\n",
    "curl https://api.openai.com/v1/chat/completions \\\n",
    "  -H \"Content-Type: application/json\" \\\n",
    "  -H \"Authorization: Bearer $OPENAI_API_KEY\" \\\n",
    "  -d '{\n",
    "    \"model\": \"gpt-3.5-turbo\",\n",
    "    \"messages\": [\n",
    "      {\"role\": \"system\", \"content\": \"You are a helpful assistant.\"}, \n",
    "      {\"role\": \"user\", \"content\": \"Hello!\"}\n",
    "      ]\n",
    "  }'\n",
    "```"
   ]
  },
  {
   "cell_type": "markdown",
   "metadata": {},
   "source": [
    "## Via requests module\n",
    "\n",
    "```python\n",
    "import requests\n",
    "\n",
    "headers = {\n",
    "    \"Content-Type\": \"application/json\",\n",
    "    \"Authorization\": \"Bearer \" + OPENAI_API_KEY,\n",
    "}\n",
    "json_data = {\n",
    "    \"model\": \"gpt-3.5-turbo\", \n",
    "    \"messages\": [\n",
    "        {\"role\": \"system\", \"content\": \"You are a helpful assistant.\"}, \n",
    "        {\"role\": \"user\", \"content\": \"Hello!\"}\n",
    "        ]}\n",
    "response = requests.post(\n",
    "    \"https://api.openai.com/v1/chat/completions\",\n",
    "    headers=headers,\n",
    "    json=json_data,\n",
    ")\n",
    "```\n"
   ]
  },
  {
   "cell_type": "markdown",
   "metadata": {},
   "source": [
    "Weather"
   ]
  },
  {
   "cell_type": "markdown",
   "metadata": {},
   "source": [
    "## Weather Chatbot Example\n"
   ]
  },
  {
   "cell_type": "markdown",
   "metadata": {},
   "source": []
  },
  {
   "cell_type": "code",
   "execution_count": 2,
   "metadata": {},
   "outputs": [],
   "source": [
    "import requests\n",
    "from dotenv import load_dotenv\n",
    "import json\n",
    "load_dotenv()\n",
    "\n",
    "OPENAI_API_KEY = os.getenv(\"OPENAI_API_KEY\")\n",
    "GPT_MODEL =\"gpt-3.5-turbo-0613\" # new model for function calling capablities\n"
   ]
  },
  {
   "cell_type": "code",
   "execution_count": 3,
   "metadata": {},
   "outputs": [],
   "source": [
    "import requests\n",
    "\n",
    "def chat_completion_request(messages, functions=None, function_call=None, model=GPT_MODEL):\n",
    "\n",
    "    headers = {\n",
    "        \"Content-Type\": \"application/json\",\n",
    "        \"Authorization\": \"Bearer \" + OPENAI_API_KEY,\n",
    "    }\n",
    "    json_data = {\n",
    "        \"model\": model, \n",
    "        \"messages\": messages, \n",
    "        }\n",
    "    \n",
    "    if functions is not None:\n",
    "        json_data.update({\"functions\": functions})\n",
    "    if function_call is not None:\n",
    "        json_data.update({\"function_call\": function_call})\n",
    "        \n",
    "    try:    \n",
    "        response = requests.post(\n",
    "            \"https://api.openai.com/v1/chat/completions\",\n",
    "            headers=headers,\n",
    "            json=json_data,\n",
    "        )\n",
    "        \n",
    "        return response\n",
    "    except Exception as e:\n",
    "        print(f\"\\n>>> Unable to generate Chat Completion Response\")\n",
    "        print(f\"/n>>> Exception: {e}\")\n",
    "        raise e\n",
    "        "
   ]
  },
  {
   "cell_type": "code",
   "execution_count": 4,
   "metadata": {},
   "outputs": [
    {
     "data": {
      "text/plain": [
       "<Response [200]>"
      ]
     },
     "execution_count": 4,
     "metadata": {},
     "output_type": "execute_result"
    }
   ],
   "source": [
    "# sample use\n",
    "\n",
    "sample_messages = [\n",
    "    {\"role\":\"system\", \"content\":\"you are a helpful assistant\"},\n",
    "    {\"role\":\"user\", \"content\":\"Hi there\"}\n",
    "]\n",
    "chat_response = chat_completion_request(messages=sample_messages)\n",
    "\n",
    "chat_response"
   ]
  },
  {
   "cell_type": "code",
   "execution_count": 5,
   "metadata": {},
   "outputs": [
    {
     "data": {
      "text/plain": [
       "{'id': 'chatcmpl-8OqIeSWkrNeqAwQRVkllh4H9FxWeF',\n",
       " 'object': 'chat.completion',\n",
       " 'created': 1700931604,\n",
       " 'model': 'gpt-3.5-turbo-0613',\n",
       " 'choices': [{'index': 0,\n",
       "   'message': {'role': 'assistant',\n",
       "    'content': 'Hello! How can I assist you today?'},\n",
       "   'finish_reason': 'stop'}],\n",
       " 'usage': {'prompt_tokens': 18, 'completion_tokens': 9, 'total_tokens': 27}}"
      ]
     },
     "execution_count": 5,
     "metadata": {},
     "output_type": "execute_result"
    }
   ],
   "source": [
    "chat_response.json()"
   ]
  },
  {
   "cell_type": "code",
   "execution_count": 6,
   "metadata": {},
   "outputs": [
    {
     "data": {
      "text/plain": [
       "{'role': 'assistant', 'content': 'Hello! How can I assist you today?'}"
      ]
     },
     "execution_count": 6,
     "metadata": {},
     "output_type": "execute_result"
    }
   ],
   "source": [
    "assistant_message = chat_response.json()[\"choices\"][0][\"message\"]\n",
    "assistant_message "
   ]
  },
  {
   "cell_type": "code",
   "execution_count": 7,
   "metadata": {},
   "outputs": [],
   "source": [
    "creator_name = \"demohari\"\n",
    "\n",
    "system_instruction = f\"\"\"\n",
    "You are Weather bot created by {creator_name}, \\\n",
    "You first greet the customer, and you MUST introduce yourself as -\n",
    "\"Hi I am Weather bot created by {creator_name}! How may I assist you today?\" \\\n",
    "an automated service to tell Weather infomation \\\n",
    "based on the location provided by the user. \\\n",
    "then collects the location information\\\n",
    "Don't make assumptions about what \\\n",
    "values to plug into functions. \\\n",
    "Ask for clarification if a user request is ambiguous.\n",
    "You respond in a short, very conversational friendly style. \\\n",
    "\"\"\""
   ]
  },
  {
   "cell_type": "code",
   "execution_count": 8,
   "metadata": {},
   "outputs": [],
   "source": [
    "messages =[\n",
    "    {\"role\":\"system\", \"content\":system_instruction}\n",
    "]"
   ]
  },
  {
   "cell_type": "code",
   "execution_count": 9,
   "metadata": {},
   "outputs": [],
   "source": [
    "functions = [\n",
    "    {\n",
    "        \"name\": \"get_current_weather\", # name of your function\n",
    "        \"description\": \"Get the current weather\", # description of your function\n",
    "        \"parameters\": {\n",
    "            \"type\": \"object\",\n",
    "            \"properties\": { # 1st argument of your function\n",
    "                \"location\": { # argument name\n",
    "                    \"type\": \"string\", # argument type\n",
    "                    \"description\": \"The city and state, e.g. San Francisco, CA\", # description of your function with example\n",
    "                }\n",
    "            },\n",
    "            \"required\": [\"location\"], # required argument of your\n",
    "        },\n",
    "    }\n",
    "]"
   ]
  },
  {
   "cell_type": "code",
   "execution_count": 25,
   "metadata": {},
   "outputs": [],
   "source": [
    "def get_current_weather(location):\n",
    "    RAPID_API_KEY = os.getenv(\"RAPID_API_KEY\")\n",
    "    try:\n",
    "        url = \"https://weatherapi-com.p.rapidapi.com/current.json\"\n",
    "\n",
    "        querystring = {\"q\": location}\n",
    "        print(f\"\\n>>>> got the querystring as: {querystring}\")\n",
    "        headers = {\n",
    "            \"X-RapidAPI-Key\": RAPID_API_KEY,\n",
    "            \"X-RapidAPI-Host\": \"weatherapi-com.p.rapidapi.com\"\n",
    "        }\n",
    "\n",
    "        response = requests.get(url, headers=headers, params=querystring)\n",
    "        response_json = response.json()\n",
    "        print(f\"\\n>>>> got the RAPID API response as: \\n{response_json}\")\n",
    "        return response_json\n",
    "    except Exception as e:\n",
    "        raise e"
   ]
  },
  {
   "cell_type": "code",
   "execution_count": 26,
   "metadata": {},
   "outputs": [],
   "source": [
    "user_message = \"Hi there!\"\n",
    "messages.append({\"role\": \"user\", \"content\": user_message})\n",
    "chat_response = chat_completion_request(messages = messages, functions = functions)"
   ]
  },
  {
   "cell_type": "code",
   "execution_count": 27,
   "metadata": {},
   "outputs": [
    {
     "data": {
      "text/plain": [
       "<Response [200]>"
      ]
     },
     "execution_count": 27,
     "metadata": {},
     "output_type": "execute_result"
    }
   ],
   "source": [
    "chat_response"
   ]
  },
  {
   "cell_type": "code",
   "execution_count": 28,
   "metadata": {},
   "outputs": [
    {
     "data": {
      "text/plain": [
       "{'id': 'chatcmpl-8OqOldgy7IkQJ0ZG09HmeHCSKCZYp',\n",
       " 'object': 'chat.completion',\n",
       " 'created': 1700931983,\n",
       " 'model': 'gpt-3.5-turbo-0613',\n",
       " 'choices': [{'index': 0,\n",
       "   'message': {'role': 'assistant',\n",
       "    'content': 'Hi! I am Weather bot created by demohari. How may I assist you today?'},\n",
       "   'finish_reason': 'stop'}],\n",
       " 'usage': {'prompt_tokens': 690, 'completion_tokens': 20, 'total_tokens': 710}}"
      ]
     },
     "execution_count": 28,
     "metadata": {},
     "output_type": "execute_result"
    }
   ],
   "source": [
    "chat_response.json()"
   ]
  },
  {
   "cell_type": "code",
   "execution_count": 29,
   "metadata": {},
   "outputs": [
    {
     "data": {
      "text/plain": [
       "{'role': 'assistant',\n",
       " 'content': 'Hi! I am Weather bot created by demohari. How may I assist you today?'}"
      ]
     },
     "execution_count": 29,
     "metadata": {},
     "output_type": "execute_result"
    }
   ],
   "source": [
    "assistant_message=chat_response.json()[\"choices\"][0][\"message\"]\n",
    "assistant_message"
   ]
  },
  {
   "cell_type": "code",
   "execution_count": 30,
   "metadata": {},
   "outputs": [
    {
     "name": "stdout",
     "output_type": "stream",
     "text": [
      "\n",
      ">>>> complete_chat_response: \n",
      "{'id': 'chatcmpl-8OqOy8ryXANlTpRPLosaIph9a3B6u', 'object': 'chat.completion', 'created': 1700931996, 'model': 'gpt-3.5-turbo-0613', 'choices': [{'index': 0, 'message': {'role': 'assistant', 'content': 'Hi! I am Weather bot created by demohari! How may I assist you today?'}, 'finish_reason': 'stop'}], 'usage': {'prompt_tokens': 163, 'completion_tokens': 20, 'total_tokens': 183}}\n",
      "\n",
      ">>>> assistant message: \n",
      "{'role': 'assistant', 'content': 'Hi! I am Weather bot created by demohari! How may I assist you today?'}\n"
     ]
    }
   ],
   "source": [
    "messages = list()\n",
    "messages.append({\"role\": \"system\", \"content\": system_instruction})\n",
    "\n",
    "\n",
    "user_message = \"Hi there!\"\n",
    "messages.append({\"role\": \"user\", \"content\": user_message})\n",
    "chat_response = chat_completion_request(messages = messages, functions = functions)\n",
    "print(f\"\\n>>>> complete_chat_response: \\n{chat_response.json()}\")\n",
    "assistant_message = chat_response.json()[\"choices\"][0][\"message\"]\n",
    "print(f\"\\n>>>> assistant message: \\n{assistant_message}\")"
   ]
  },
  {
   "cell_type": "code",
   "execution_count": 31,
   "metadata": {},
   "outputs": [
    {
     "data": {
      "text/plain": [
       "[{'role': 'system',\n",
       "  'content': '\\nYou are Weather bot created by demohari, You first greet the customer, and you MUST introduce yourself as -\\n\"Hi I am Weather bot created by demohari! How may I assist you today?\" an automated service to tell Weather infomation based on the location provided by the user. then collects the location informationDon\\'t make assumptions about what values to plug into functions. Ask for clarification if a user request is ambiguous.\\nYou respond in a short, very conversational friendly style. '},\n",
       " {'role': 'user', 'content': 'Hi there!'},\n",
       " {'role': 'assistant',\n",
       "  'content': 'Hi! I am Weather bot created by demohari! How may I assist you today?'}]"
      ]
     },
     "execution_count": 31,
     "metadata": {},
     "output_type": "execute_result"
    }
   ],
   "source": [
    "messages.append(assistant_message) # to give context\n",
    "messages"
   ]
  },
  {
   "cell_type": "code",
   "execution_count": 46,
   "metadata": {},
   "outputs": [
    {
     "name": "stdout",
     "output_type": "stream",
     "text": [
      "\n",
      ">>>> complete_chat_response: \n",
      "{'id': 'chatcmpl-8OqSFJ8eWKommjgIo4laYWmkB4q4T', 'object': 'chat.completion', 'created': 1700932199, 'model': 'gpt-3.5-turbo-0613', 'choices': [{'index': 0, 'message': {'role': 'assistant', 'content': None, 'function_call': {'name': 'get_current_weather', 'arguments': '{\\n  \"location\": \"Hyderabad, IN\"\\n}'}}, 'finish_reason': 'function_call'}], 'usage': {'prompt_tokens': 1137, 'completion_tokens': 19, 'total_tokens': 1156}}\n",
      "\n",
      "\n",
      ">>>> assistant message: \n",
      "{'role': 'assistant', 'content': None, 'function_call': {'name': 'get_current_weather', 'arguments': '{\\n  \"location\": \"Hyderabad, IN\"\\n}'}}\n"
     ]
    }
   ],
   "source": [
    "user_message = \"I want to know the weather at hyderabad IN\"\n",
    "messages.append({\"role\": \"user\", \"content\": user_message})\n",
    "chat_response = chat_completion_request(messages = messages, functions = functions)\n",
    "print(f\"\\n>>>> complete_chat_response: \\n{chat_response.json()}\\n\")\n",
    "assistant_message = chat_response.json()[\"choices\"][0][\"message\"]\n",
    "print(f\"\\n>>>> assistant message: \\n{assistant_message}\")"
   ]
  },
  {
   "cell_type": "code",
   "execution_count": 47,
   "metadata": {},
   "outputs": [
    {
     "data": {
      "text/plain": [
       "{'name': 'get_current_weather',\n",
       " 'arguments': '{\\n  \"location\": \"Hyderabad, IN\"\\n}'}"
      ]
     },
     "execution_count": 47,
     "metadata": {},
     "output_type": "execute_result"
    }
   ],
   "source": [
    "assistant_message.get(\"function_call\")"
   ]
  },
  {
   "cell_type": "code",
   "execution_count": 48,
   "metadata": {},
   "outputs": [
    {
     "data": {
      "text/plain": [
       "'get_current_weather'"
      ]
     },
     "execution_count": 48,
     "metadata": {},
     "output_type": "execute_result"
    }
   ],
   "source": [
    "assistant_message.get(\"function_call\").get(\"name\") # string"
   ]
  },
  {
   "cell_type": "code",
   "execution_count": 49,
   "metadata": {},
   "outputs": [
    {
     "data": {
      "text/plain": [
       "'{\\n  \"location\": \"Hyderabad, IN\"\\n}'"
      ]
     },
     "execution_count": 49,
     "metadata": {},
     "output_type": "execute_result"
    }
   ],
   "source": [
    "assistant_message.get(\"function_call\").get(\"arguments\") # string"
   ]
  },
  {
   "cell_type": "code",
   "execution_count": 50,
   "metadata": {},
   "outputs": [],
   "source": [
    "import json\n",
    "\n",
    "def execute_function_call(assistant_message):\n",
    "    if assistant_message.get(\"function_call\").get(\"name\") == \"get_current_weather\":\n",
    "        location = json.loads(assistant_message.get(\"function_call\").get(\"arguments\") )[\"location\"]\n",
    "        results = get_current_weather(location)\n",
    "    else:\n",
    "        results = f\"Error: function {assistant_message['function_call']['name']} does not exist\"\n",
    "\n",
    "    return results"
   ]
  },
  {
   "cell_type": "code",
   "execution_count": 51,
   "metadata": {},
   "outputs": [
    {
     "name": "stdout",
     "output_type": "stream",
     "text": [
      "\n",
      ">>>> got the querystring as: {'q': 'Hyderabad, IN'}\n",
      "\n",
      ">>>> got the RAPID API response as: \n",
      "{'location': {'name': 'Hyderabad', 'region': 'Andhra Pradesh', 'country': 'India', 'lat': 17.38, 'lon': 78.47, 'tz_id': 'Asia/Kolkata', 'localtime_epoch': 1700932160, 'localtime': '2023-11-25 22:39'}, 'current': {'last_updated_epoch': 1700931600, 'last_updated': '2023-11-25 22:30', 'temp_c': 22.0, 'temp_f': 71.6, 'is_day': 0, 'condition': {'text': 'Mist', 'icon': '//cdn.weatherapi.com/weather/64x64/night/143.png', 'code': 1030}, 'wind_mph': 2.2, 'wind_kph': 3.6, 'wind_degree': 117, 'wind_dir': 'ESE', 'pressure_mb': 1019.0, 'pressure_in': 30.09, 'precip_mm': 0.02, 'precip_in': 0.0, 'humidity': 83, 'cloud': 75, 'feelslike_c': 24.6, 'feelslike_f': 76.2, 'vis_km': 5.0, 'vis_miles': 3.0, 'uv': 1.0, 'gust_mph': 9.5, 'gust_kph': 15.3}}\n"
     ]
    },
    {
     "data": {
      "text/plain": [
       "'{\"location\": {\"name\": \"Hyderabad\", \"region\": \"Andhra Pradesh\", \"country\": \"India\", \"lat\": 17.38, \"lon\": 78.47, \"tz_id\": \"Asia/Kolkata\", \"localtime_epoch\": 1700932160, \"localtime\": \"2023-11-25 22:39\"}, \"current\": {\"last_updated_epoch\": 1700931600, \"last_updated\": \"2023-11-25 22:30\", \"temp_c\": 22.0, \"temp_f\": 71.6, \"is_day\": 0, \"condition\": {\"text\": \"Mist\", \"icon\": \"//cdn.weatherapi.com/weather/64x64/night/143.png\", \"code\": 1030}, \"wind_mph\": 2.2, \"wind_kph\": 3.6, \"wind_degree\": 117, \"wind_dir\": \"ESE\", \"pressure_mb\": 1019.0, \"pressure_in\": 30.09, \"precip_mm\": 0.02, \"precip_in\": 0.0, \"humidity\": 83, \"cloud\": 75, \"feelslike_c\": 24.6, \"feelslike_f\": 76.2, \"vis_km\": 5.0, \"vis_miles\": 3.0, \"uv\": 1.0, \"gust_mph\": 9.5, \"gust_kph\": 15.3}}'"
      ]
     },
     "execution_count": 51,
     "metadata": {},
     "output_type": "execute_result"
    }
   ],
   "source": [
    "results = execute_function_call(assistant_message)\n",
    "content = json.dumps(results)\n",
    "content"
   ]
  },
  {
   "cell_type": "code",
   "execution_count": 52,
   "metadata": {},
   "outputs": [
    {
     "name": "stdout",
     "output_type": "stream",
     "text": [
      "\n",
      ">>>> recieved message: {'id': 'chatcmpl-8OqSVEGaI3R3p6JWmNzYv9GZkqumd', 'object': 'chat.completion', 'created': 1700932215, 'model': 'gpt-3.5-turbo-0613', 'choices': [{'index': 0, 'message': {'role': 'assistant', 'content': \"The current weather in Hyderabad, India is misty. It's currently 22 degrees Celsius (71.6 degrees Fahrenheit) with a wind speed of 3.6 kilometers per hour coming from the east-southeast direction. The pressure is 1019.0 millibars, and the humidity level is 83%. The sky is 75% covered with clouds. Visibility is slightly reduced to 5.0 kilometers (3.0 miles) due to mist. It feels like 24.6 degrees Celsius (76.2 degrees Fahrenheit).\"}, 'finish_reason': 'stop'}], 'usage': {'prompt_tokens': 1429, 'completion_tokens': 112, 'total_tokens': 1541}}\n",
      "\n",
      ">>>> natural response: \n",
      "The current weather in Hyderabad, India is misty. It's currently 22 degrees Celsius (71.6 degrees Fahrenheit) with a wind speed of 3.6 kilometers per hour coming from the east-southeast direction. The pressure is 1019.0 millibars, and the humidity level is 83%. The sky is 75% covered with clouds. Visibility is slightly reduced to 5.0 kilometers (3.0 miles) due to mist. It feels like 24.6 degrees Celsius (76.2 degrees Fahrenheit).\n"
     ]
    }
   ],
   "source": [
    "def get_natural_response(content):\n",
    "    convert_prompt = f\"convert this results from weather api to a natural english sentence: {content}\"\n",
    "    messages.append({\"role\": \"user\", \"content\": convert_prompt})\n",
    "    convert_prompt_response = chat_completion_request(messages=messages)\n",
    "    print(f\"\\n>>>> recieved message: {convert_prompt_response.json()}\")\n",
    "    new_assistant_message = convert_prompt_response.json()[\"choices\"][0][\"message\"]\n",
    "    messages.append(new_assistant_message)\n",
    "    content = new_assistant_message[\"content\"]\n",
    "    print(f\"\\n>>>> natural response: \\n{content}\")\n",
    "    return content\n",
    "\n",
    "\n",
    "content = get_natural_response(content)"
   ]
  },
  {
   "cell_type": "code",
   "execution_count": null,
   "metadata": {},
   "outputs": [],
   "source": []
  }
 ],
 "metadata": {
  "kernelspec": {
   "display_name": "Python 3",
   "language": "python",
   "name": "python3"
  },
  "language_info": {
   "codemirror_mode": {
    "name": "ipython",
    "version": 3
   },
   "file_extension": ".py",
   "mimetype": "text/x-python",
   "name": "python",
   "nbconvert_exporter": "python",
   "pygments_lexer": "ipython3",
   "version": "3.9.18"
  }
 },
 "nbformat": 4,
 "nbformat_minor": 2
}
